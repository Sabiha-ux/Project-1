{
  "nbformat": 4,
  "nbformat_minor": 0,
  "metadata": {
    "colab": {
      "name": "Sabiha.ipynb",
      "provenance": []
    },
    "kernelspec": {
      "name": "python3",
      "display_name": "Python 3"
    },
    "language_info": {
      "name": "python"
    }
  },
  "cells": [
    {
      "cell_type": "code",
      "metadata": {
        "colab": {
          "base_uri": "https://localhost:8080/"
        },
        "id": "yeUG7v9eW_O7",
        "outputId": "ff32f313-c12e-4573-f519-dc848ebec42a"
      },
      "source": [
        "num1 = int(input(\"Enter First Number: \"))\n",
        "num2 = int(input(\"Enter Second Number: \"))\n",
        "\n",
        "operation = input(\"Enter any of these specific operation which you want to perform +,-,*,/ : \")\n",
        "\n",
        "result = 0\n",
        "if operation == '+':\n",
        "    result = num1 + num2\n",
        "elif operation == '-':\n",
        "    result = num1 - num2\n",
        "elif operation == '*':\n",
        "    result = num1 * num2\n",
        "elif operation == '/':\n",
        "    result = num1 / num2\n",
        "else:\n",
        "    print(\"Syntax Error\")\n",
        "\n",
        "print(num1,operation,num2, \":\", result)"
      ],
      "execution_count": null,
      "outputs": [
        {
          "output_type": "stream",
          "text": [
            "Enter First Number: 3\n",
            "Enter Second Number: 4\n",
            "Enter any of these specific operation which you want to perform +,-,*,/ : +\n",
            "3 + 4 : 7\n"
          ],
          "name": "stdout"
        }
      ]
    }
  ]
}